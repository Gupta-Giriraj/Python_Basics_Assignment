{
 "cells": [
  {
   "cell_type": "markdown",
   "id": "a1a3bbe4-edc2-4f85-8830-7290ccb54079",
   "metadata": {},
   "source": [
    "# Declare two variables, `x` and `y`, and assign them integer values. Swap the\n",
    "values of these variables without using any temporary variable."
   ]
  },
  {
   "cell_type": "code",
   "execution_count": 2,
   "id": "f5baa070-ab06-4846-b6b9-6618a80502b4",
   "metadata": {},
   "outputs": [],
   "source": [
    "x,y=10,20"
   ]
  },
  {
   "cell_type": "code",
   "execution_count": 3,
   "id": "21ac3624-7284-4c64-8359-a0ada546ca52",
   "metadata": {},
   "outputs": [
    {
     "data": {
      "text/plain": [
       "10"
      ]
     },
     "execution_count": 3,
     "metadata": {},
     "output_type": "execute_result"
    }
   ],
   "source": [
    "x"
   ]
  },
  {
   "cell_type": "code",
   "execution_count": 4,
   "id": "0b723b49-fe20-4f47-8a86-f0703cc382a7",
   "metadata": {},
   "outputs": [
    {
     "data": {
      "text/plain": [
       "20"
      ]
     },
     "execution_count": 4,
     "metadata": {},
     "output_type": "execute_result"
    }
   ],
   "source": [
    "y"
   ]
  },
  {
   "cell_type": "code",
   "execution_count": 5,
   "id": "36f59c98-c782-471b-8abd-557be35bae34",
   "metadata": {},
   "outputs": [],
   "source": [
    "x,y=20,10"
   ]
  },
  {
   "cell_type": "code",
   "execution_count": 6,
   "id": "9512458a-4ace-4ce4-a7f0-94d9c2eb4f5e",
   "metadata": {},
   "outputs": [
    {
     "data": {
      "text/plain": [
       "20"
      ]
     },
     "execution_count": 6,
     "metadata": {},
     "output_type": "execute_result"
    }
   ],
   "source": [
    "x"
   ]
  },
  {
   "cell_type": "code",
   "execution_count": 7,
   "id": "a8a71a28-83ba-4c9f-af96-6569bcff20ee",
   "metadata": {},
   "outputs": [
    {
     "data": {
      "text/plain": [
       "10"
      ]
     },
     "execution_count": 7,
     "metadata": {},
     "output_type": "execute_result"
    }
   ],
   "source": [
    "y"
   ]
  },
  {
   "cell_type": "markdown",
   "id": "cf6d8879-ebd0-4840-a82e-a78669bbffd5",
   "metadata": {},
   "source": [
    "#Create a program that calculates the area of a rectangle. Take the length and\n",
    "width as inputs from the user and store them in variables. Calculate and\n",
    "display the area."
   ]
  },
  {
   "cell_type": "code",
   "execution_count": 8,
   "id": "6c44f70f-517c-418e-9743-f5fd8ddc60ac",
   "metadata": {},
   "outputs": [],
   "source": [
    "length,width=11,11"
   ]
  },
  {
   "cell_type": "code",
   "execution_count": 11,
   "id": "2ed85db8-aa97-48a8-8d54-e5cebdffdbe1",
   "metadata": {},
   "outputs": [],
   "source": [
    "Area=11*11"
   ]
  },
  {
   "cell_type": "code",
   "execution_count": 12,
   "id": "d4532159-b76c-4e59-bff9-21567dce6d15",
   "metadata": {},
   "outputs": [
    {
     "data": {
      "text/plain": [
       "121"
      ]
     },
     "execution_count": 12,
     "metadata": {},
     "output_type": "execute_result"
    }
   ],
   "source": [
    "Area"
   ]
  },
  {
   "cell_type": "markdown",
   "id": "03dba08a-f44a-4bec-85aa-3380d476bb7f",
   "metadata": {},
   "source": [
    "#Write a Python program that converts temperatures from Celsius to\n",
    "Fahrenheit. Take the temperature in Celsius as input, store it in a variable,\n",
    "convert it to Fahrenheit, and display the result."
   ]
  },
  {
   "cell_type": "code",
   "execution_count": 14,
   "id": "9fbd889c-ac41-4df7-bb6e-7067ad5354ae",
   "metadata": {},
   "outputs": [],
   "source": [
    "C=50 #temperature in Celcius"
   ]
  },
  {
   "cell_type": "code",
   "execution_count": 15,
   "id": "d0b5d09f-97a8-43ac-a632-ffd8ad967a7a",
   "metadata": {},
   "outputs": [],
   "source": [
    "F=C*(9/5)+32"
   ]
  },
  {
   "cell_type": "code",
   "execution_count": 16,
   "id": "bc771bb7-97f2-406a-9865-860f2525d1d3",
   "metadata": {},
   "outputs": [
    {
     "data": {
      "text/plain": [
       "122.0"
      ]
     },
     "execution_count": 16,
     "metadata": {},
     "output_type": "execute_result"
    }
   ],
   "source": [
    "F #temperature in Fahrenheit "
   ]
  },
  {
   "cell_type": "markdown",
   "id": "2ae00e2b-8194-4814-a2b5-221391763cb1",
   "metadata": {},
   "source": [
    "1. Write a Python program that takes a string as input and prints the length of\n",
    "the string."
   ]
  },
  {
   "cell_type": "code",
   "execution_count": 17,
   "id": "d9081164-5262-48db-8119-037edb347e38",
   "metadata": {},
   "outputs": [],
   "source": [
    "s=\"Giriraj Gupta\" #input string"
   ]
  },
  {
   "cell_type": "code",
   "execution_count": 18,
   "id": "198efb49-814e-4a50-8c65-6a0fcfa7037d",
   "metadata": {},
   "outputs": [
    {
     "data": {
      "text/plain": [
       "str"
      ]
     },
     "execution_count": 18,
     "metadata": {},
     "output_type": "execute_result"
    }
   ],
   "source": [
    "type (s)"
   ]
  },
  {
   "cell_type": "code",
   "execution_count": 21,
   "id": "4b029402-41e2-4dbe-8ac1-a40f10c0eae6",
   "metadata": {},
   "outputs": [
    {
     "data": {
      "text/plain": [
       "13"
      ]
     },
     "execution_count": 21,
     "metadata": {},
     "output_type": "execute_result"
    }
   ],
   "source": [
    "len (s) #space included"
   ]
  },
  {
   "cell_type": "markdown",
   "id": "715a1c65-d98a-45bd-8fea-879c31bf6b0e",
   "metadata": {},
   "source": [
    "2.Create a program that takes a sentence from the user and counts the number\n",
    "of vowels (a, e, i, o, u) in the string."
   ]
  },
  {
   "cell_type": "code",
   "execution_count": 52,
   "id": "689f147a-88f2-4bc8-bb79-5c46ce382e6d",
   "metadata": {},
   "outputs": [
    {
     "name": "stdout",
     "output_type": "stream",
     "text": [
      "Number of vowels: 11\n"
     ]
    }
   ],
   "source": [
    "entence = \"i forgot my umbrella in a rainy night\"\n",
    "\n",
    "# Convert the sentence to lowercase to make it case-insensitive\n",
    "sentence = sentence.lower()\n",
    "\n",
    "# Define a set of vowels\n",
    "vowels = set(\"aeiou\")\n",
    "\n",
    "# count the number of vowels, if 1 then it matches and counts if not it nullifies\n",
    "num_vowels = sum(1 for char in sentence if char in vowels)\n",
    "\n",
    "# Print the result\n",
    "print(\"Number of vowels:\", num_vowels)"
   ]
  },
  {
   "cell_type": "markdown",
   "id": "b891baf0-f015-43c1-824b-3a00535dce9f",
   "metadata": {},
   "source": [
    "3. Given a string, reverse the order of characters using string slicing and print\n",
    "the reversed string."
   ]
  },
  {
   "cell_type": "code",
   "execution_count": 58,
   "id": "729bc974-389d-43d3-8fef-544b99633420",
   "metadata": {},
   "outputs": [],
   "source": [
    "s1=\"bengali\""
   ]
  },
  {
   "cell_type": "code",
   "execution_count": 111,
   "id": "adc50e1e-0596-4e19-bb1b-1b767e9b8f59",
   "metadata": {},
   "outputs": [],
   "source": [
    "s2=s1[::-1]"
   ]
  },
  {
   "cell_type": "code",
   "execution_count": 112,
   "id": "c357c0e4-32ad-4d0d-af2b-78166bc324c9",
   "metadata": {},
   "outputs": [
    {
     "data": {
      "text/plain": [
       "'ILAGNEB'"
      ]
     },
     "execution_count": 112,
     "metadata": {},
     "output_type": "execute_result"
    }
   ],
   "source": [
    "s2"
   ]
  },
  {
   "cell_type": "markdown",
   "id": "8a4cc219-e61a-4a59-98cb-43e84eb50bd1",
   "metadata": {},
   "source": [
    "4. Write a program that takes a string as input and checks if it is a palindrome\n",
    "(reads the same forwards and backwards)."
   ]
  },
  {
   "cell_type": "code",
   "execution_count": 113,
   "id": "6b29075c-530d-409d-9130-7345f7a3de6b",
   "metadata": {},
   "outputs": [],
   "source": [
    "s3=\"malayalam\""
   ]
  },
  {
   "cell_type": "code",
   "execution_count": 116,
   "id": "add8b956-f809-4043-99f7-d096769f47c0",
   "metadata": {},
   "outputs": [
    {
     "name": "stdout",
     "output_type": "stream",
     "text": [
      "malayalam\n"
     ]
    }
   ],
   "source": [
    "s4=s3[::-1]\n",
    "print (s4)\n"
   ]
  },
  {
   "cell_type": "markdown",
   "id": "f5d1516b-23dd-46e5-95d1-f4c7e36249bf",
   "metadata": {},
   "source": [
    "5. Create a program that takes a string as input and removes all the spaces from\n",
    "it. Print the modified string without spaces."
   ]
  },
  {
   "cell_type": "code",
   "execution_count": 118,
   "id": "b284b785-8f97-4588-b35b-80bf80da5400",
   "metadata": {},
   "outputs": [],
   "source": [
    "d=\"sunlight is a sustainable source of energy\""
   ]
  },
  {
   "cell_type": "code",
   "execution_count": 127,
   "id": "18174ee5-0fe4-469b-9b9b-ffac73921c09",
   "metadata": {},
   "outputs": [],
   "source": [
    "modified_string= d.replace(\" \",\"\")"
   ]
  },
  {
   "cell_type": "code",
   "execution_count": 128,
   "id": "448500e2-e078-4440-aed8-6832a4d1715c",
   "metadata": {},
   "outputs": [
    {
     "name": "stdout",
     "output_type": "stream",
     "text": [
      "modified string: sunlightisasustianablesourceofenergy\n"
     ]
    }
   ],
   "source": [
    "print ('modified string:', modified_string)"
   ]
  },
  {
   "cell_type": "code",
   "execution_count": null,
   "id": "f7c1832c-7862-4f20-b524-0ac184d49b95",
   "metadata": {},
   "outputs": [],
   "source": []
  }
 ],
 "metadata": {
  "kernelspec": {
   "display_name": "Python 3 (ipykernel)",
   "language": "python",
   "name": "python3"
  },
  "language_info": {
   "codemirror_mode": {
    "name": "ipython",
    "version": 3
   },
   "file_extension": ".py",
   "mimetype": "text/x-python",
   "name": "python",
   "nbconvert_exporter": "python",
   "pygments_lexer": "ipython3",
   "version": "3.10.8"
  }
 },
 "nbformat": 4,
 "nbformat_minor": 5
}
